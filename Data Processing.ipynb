{
 "cells": [
  {
   "cell_type": "markdown",
   "metadata": {},
   "source": [
    "## Create validation data"
   ]
  },
  {
   "cell_type": "code",
   "execution_count": 37,
   "metadata": {},
   "outputs": [],
   "source": [
    "path = './data/'\n",
    "labels_file = path + 'labels.csv'\n",
    "val_percentage = 0.15\n",
    "train_path = path + 'train/'\n",
    "valid_path = path + 'valid/'"
   ]
  },
  {
   "cell_type": "code",
   "execution_count": 38,
   "metadata": {},
   "outputs": [],
   "source": [
    "!mkdir -p {path}valid"
   ]
  },
  {
   "cell_type": "code",
   "execution_count": 39,
   "metadata": {},
   "outputs": [],
   "source": [
    "import numpy as np\n",
    "import random\n",
    "import os\n",
    "from os import listdir, path\n",
    "from os.path import isfile, join\n",
    "import re\n",
    "import shutil\n",
    "from matplotlib import pyplot as plt"
   ]
  },
  {
   "cell_type": "code",
   "execution_count": 40,
   "metadata": {},
   "outputs": [],
   "source": [
    "breeds = np.genfromtxt(labels_file, delimiter=',', dtype=\"str\", skip_header=1)\n",
    "breed_map = { ar[0]: ar[1] for ar in breeds }"
   ]
  },
  {
   "cell_type": "code",
   "execution_count": 41,
   "metadata": {},
   "outputs": [],
   "source": [
    "random.seed(1234)\n",
    "images = [f for f in listdir(train_path) if isfile(join(train_path,f))]\n",
    "\n",
    "def get_fileid(filename):\n",
    "    return re.split('\\.', filename)[0]\n",
    "\n",
    "for img in images:\n",
    "    img_id = get_fileid(img)\n",
    "    rv = random.random()\n",
    "    if rv > val_percentage:\n",
    "        folder = train_path + breed_map[img_id]\n",
    "    else:\n",
    "        folder = valid_path + breed_map[img_id]\n",
    "    os.makedirs(folder, exist_ok=True)\n",
    "    shutil.move(join(train_path, img), folder)"
   ]
  },
  {
   "cell_type": "code",
   "execution_count": 42,
   "metadata": {},
   "outputs": [],
   "source": [
    "folders =  !ls {valid_path}"
   ]
  },
  {
   "cell_type": "code",
   "execution_count": 43,
   "metadata": {},
   "outputs": [
    {
     "name": "stdout",
     "output_type": "stream",
     "text": [
      "affenpinscher 70 10\n",
      "afghan_hound 100 16\n",
      "african_hunting_dog 77 9\n",
      "airedale 92 15\n",
      "american_staffordshire_terrier 69 5\n",
      "appenzeller 61 17\n",
      "australian_terrier 93 9\n",
      "basenji 96 14\n",
      "basset 74 8\n",
      "beagle 90 15\n",
      "bedlington_terrier 72 17\n",
      "bernese_mountain_dog 91 23\n",
      "black-and-tan_coonhound 68 9\n",
      "blenheim_spaniel 94 8\n",
      "bloodhound 66 19\n",
      "bluetick 75 10\n",
      "border_collie 63 9\n",
      "border_terrier 82 9\n",
      "borzoi 65 10\n",
      "boston_bull 79 8\n",
      "bouvier_des_flandres 67 19\n",
      "boxer 66 9\n",
      "brabancon_griffon 54 13\n",
      "briard 55 11\n",
      "brittany_spaniel 60 13\n",
      "bull_mastiff 65 10\n",
      "cairn 92 14\n",
      "cardigan 68 8\n",
      "chesapeake_bay_retriever 73 10\n",
      "chihuahua 54 17\n",
      "chow 82 11\n",
      "clumber 70 10\n",
      "cocker_spaniel 55 19\n",
      "collie 75 12\n",
      "curly-coated_retriever 65 7\n",
      "dandie_dinmont 75 14\n",
      "dhole 66 10\n",
      "dingo 64 16\n",
      "doberman 59 15\n",
      "english_foxhound 70 16\n",
      "english_setter 66 17\n",
      "english_springer 68 7\n",
      "entlebucher 102 13\n",
      "eskimo_dog 55 11\n",
      "flat-coated_retriever 62 10\n",
      "french_bulldog 61 9\n",
      "german_shepherd 60 9\n",
      "german_short-haired_pointer 62 13\n",
      "giant_schnauzer 57 12\n",
      "golden_retriever 55 12\n",
      "gordon_setter 67 14\n",
      "great_dane 65 10\n",
      "greater_swiss_mountain_dog 67 15\n",
      "great_pyrenees 92 19\n",
      "groenendael 72 10\n",
      "ibizan_hound 75 16\n",
      "irish_setter 79 9\n",
      "irish_terrier 65 17\n",
      "irish_water_spaniel 68 10\n",
      "irish_wolfhound 89 12\n",
      "italian_greyhound 83 9\n",
      "japanese_spaniel 92 13\n",
      "keeshond 72 9\n",
      "kelpie 77 9\n",
      "kerry_blue_terrier 69 13\n",
      "komondor 59 8\n",
      "kuvasz 67 4\n",
      "labrador_retriever 69 15\n",
      "lakeland_terrier 82 17\n",
      "leonberg 96 10\n",
      "lhasa 76 14\n",
      "malamute 71 10\n",
      "malinois 66 7\n",
      "maltese_dog 100 17\n",
      "mexican_hairless 69 11\n",
      "miniature_pinscher 93 9\n",
      "miniature_poodle 65 14\n",
      "miniature_schnauzer 64 14\n",
      "newfoundland 67 24\n",
      "norfolk_terrier 73 10\n",
      "norwegian_elkhound 81 14\n",
      "norwich_terrier 64 14\n",
      "old_english_sheepdog 74 13\n",
      "otterhound 56 13\n",
      "papillon 81 15\n",
      "pekinese 63 12\n",
      "pembroke 77 15\n",
      "pomeranian 98 13\n",
      "pug 76 18\n",
      "redbone 63 9\n",
      "rhodesian_ridgeback 76 12\n",
      "rottweiler 61 15\n",
      "saint_bernard 72 12\n",
      "saluki 85 14\n",
      "samoyed 91 18\n",
      "schipperke 71 15\n",
      "scotch_terrier 73 9\n",
      "scottish_deerhound 108 18\n",
      "sealyham_terrier 75 13\n",
      "shetland_sheepdog 68 8\n",
      "shih-tzu 99 13\n",
      "siberian_husky 78 17\n",
      "silky_terrier 73 17\n",
      "soft-coated_wheaten_terrier 56 15\n",
      "staffordshire_bullterrier 68 11\n",
      "standard_poodle 73 6\n",
      "standard_schnauzer 63 9\n",
      "sussex_spaniel 64 14\n",
      "tibetan_mastiff 57 12\n",
      "tibetan_terrier 91 16\n",
      "toy_poodle 66 14\n",
      "toy_terrier 68 11\n",
      "vizsla 62 8\n",
      "walker_hound 62 7\n",
      "weimaraner 74 11\n",
      "welsh_springer_spaniel 73 6\n",
      "west_highland_white_terrier 65 16\n",
      "whippet 82 13\n",
      "wire-haired_fox_terrier 68 14\n",
      "yorkshire_terrier 71 11\n",
      "8735 1487\n"
     ]
    }
   ],
   "source": [
    "tr, vl = 0,0\n",
    "for folder in folders:\n",
    "    train_files = !ls {train_path}{folder}\n",
    "    valid_files = !ls {valid_path}{folder}\n",
    "    print(folder, len(train_files), len(valid_files))\n",
    "    tr += len(train_files)\n",
    "    vl += len(valid_files)\n",
    "print(tr, vl)"
   ]
  }
 ],
 "metadata": {
  "kernelspec": {
   "display_name": "Python 3",
   "language": "python",
   "name": "python3"
  },
  "language_info": {
   "codemirror_mode": {
    "name": "ipython",
    "version": 3
   },
   "file_extension": ".py",
   "mimetype": "text/x-python",
   "name": "python",
   "nbconvert_exporter": "python",
   "pygments_lexer": "ipython3",
   "version": "3.6.4"
  }
 },
 "nbformat": 4,
 "nbformat_minor": 2
}
